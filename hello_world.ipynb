{
  "nbformat": 4,
  "nbformat_minor": 0,
  "metadata": {
    "colab": {
      "name": "hello world.ipynb",
      "provenance": [],
      "collapsed_sections": [],
      "authorship_tag": "ABX9TyNCmKh6VY2Mjta58OwZljRw",
      "include_colab_link": true
    },
    "kernelspec": {
      "name": "python3",
      "display_name": "Python 3"
    }
  },
  "cells": [
    {
      "cell_type": "markdown",
      "metadata": {
        "id": "view-in-github",
        "colab_type": "text"
      },
      "source": [
        "<a href=\"https://colab.research.google.com/github/calvss/CAPS8/blob/master/hello_world.ipynb\" target=\"_parent\"><img src=\"https://colab.research.google.com/assets/colab-badge.svg\" alt=\"Open In Colab\"/></a>"
      ]
    },
    {
      "cell_type": "code",
      "metadata": {
        "id": "aJ6OiRMmOZ3m",
        "colab_type": "code",
        "colab": {
          "base_uri": "https://localhost:8080/",
          "height": 36
        },
        "outputId": "2c9a4acd-6ff2-4a15-c3c2-f72843b3ad7c"
      },
      "source": [
        "%%writefile helloworld.cpp\n",
        "#include<iostream>\n",
        "\n",
        "//Main function\n",
        "int main(int Argc,char* Args[]){\n",
        "  std::cout<<\"Hello World!\";\n",
        "  return 0;\n",
        "}\n"
      ],
      "execution_count": 3,
      "outputs": [
        {
          "output_type": "stream",
          "text": [
            "Overwriting helloworld.cpp\n"
          ],
          "name": "stdout"
        }
      ]
    },
    {
      "cell_type": "code",
      "metadata": {
        "id": "h3rLnbyBPC24",
        "colab_type": "code",
        "colab": {
          "base_uri": "https://localhost:8080/",
          "height": 166
        },
        "outputId": "7d37e2ec-ada6-454d-d24d-0a6e85211753"
      },
      "source": [
        "%%script bash\n",
        "\n",
        "g++ helloworld.cpp -o test\n",
        "ls -laX\n",
        "./test\n"
      ],
      "execution_count": 4,
      "outputs": [
        {
          "output_type": "stream",
          "text": [
            "total 32\n",
            "drwxr-xr-x 1 root root 4096 Jun 17 16:18 sample_data\n",
            "-rwxr-xr-x 1 root root 8776 Jun 21 04:58 test\n",
            "drwxr-xr-x 1 root root 4096 Jun 21 04:58 .\n",
            "drwxr-xr-x 1 root root 4096 Jun 21 04:54 ..\n",
            "drwxr-xr-x 1 root root 4096 Jun 17 16:18 .config\n",
            "-rw-r--r-- 1 root root  111 Jun 21 04:57 helloworld.cpp\n",
            "Hello World!"
          ],
          "name": "stdout"
        }
      ]
    }
  ]
}